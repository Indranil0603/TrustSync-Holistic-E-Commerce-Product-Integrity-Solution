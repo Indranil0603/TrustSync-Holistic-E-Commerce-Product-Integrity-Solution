{
 "cells": [
  {
   "cell_type": "markdown",
   "id": "73ca1b4f",
   "metadata": {},
   "source": [
    "# Analysis on Reddit posts for customer problems"
   ]
  },
  {
   "cell_type": "markdown",
   "id": "616a5246",
   "metadata": {},
   "source": [
    "## Importing libraries"
   ]
  },
  {
   "cell_type": "code",
   "execution_count": 6,
   "id": "21454d6d",
   "metadata": {},
   "outputs": [],
   "source": [
    "import praw\n",
    "from dotenv import load_dotenv\n",
    "import os\n",
    "import time"
   ]
  },
  {
   "cell_type": "code",
   "execution_count": 25,
   "id": "4436e320",
   "metadata": {},
   "outputs": [],
   "source": [
    "load_dotenv()\n",
    "\n",
    "reddit_client_id = os.getenv(\"REDDIT_CLIENT_ID\")\n",
    "reddit_client_secret = os.getenv(\"REDDIT_CLIENT_SECRET\")\n",
    "user_agent = os.getenv(\"USER_AGENT\")\n",
    "gemini_api_key = os.getenv(\"GEMINI_API_KEY\")"
   ]
  },
  {
   "cell_type": "markdown",
   "id": "c209a9a9",
   "metadata": {},
   "source": [
    "## Reddit scrapper"
   ]
  },
  {
   "cell_type": "code",
   "execution_count": 8,
   "id": "976ab54a",
   "metadata": {},
   "outputs": [],
   "source": [
    "# inititlize reddit instance\n",
    "\n",
    "reddit = praw.Reddit(\n",
    "    client_id=reddit_client_id,\n",
    "    client_secret=reddit_client_secret,\n",
    "    user_agent=user_agent\n",
    ")"
   ]
  },
  {
   "cell_type": "code",
   "execution_count": 10,
   "id": "e67a4f4f",
   "metadata": {},
   "outputs": [
    {
     "name": "stdout",
     "output_type": "stream",
     "text": [
      "Meesho scam!! Stay safe y’all😭😭\n",
      "Got scammed for the first time (meesho)\n",
      "Evey 2nd Delivery boy in Delhi NCR are scammer Now Meesho Delivery Boy scammed me\n",
      "Meesho paylater scam(sharing my experience)\n",
      "How are they giving 8gb varient at just 15,499, Is meesho a Scam ?\n"
     ]
    }
   ],
   "source": [
    "#test reddit\n",
    "\n",
    "for submission in reddit.subreddit(\"all\").search(\"Meesho scam\", limit=5):\n",
    "    print(submission.title)"
   ]
  },
  {
   "cell_type": "code",
   "execution_count": 18,
   "id": "f59dcdcb",
   "metadata": {},
   "outputs": [
    {
     "name": "stdout",
     "output_type": "stream",
     "text": [
      "Collected 158 posts\n"
     ]
    }
   ],
   "source": [
    "query_list = [\"Meesho scam\", \"Never order from Meesho\", \"Meesho problem\", \"Meesho fraud\"]\n",
    "posts = []\n",
    "for query in query_list:\n",
    "    for submission in reddit.subreddit(\"all\").search(query, limit=40, sort=\"new\"):\n",
    "        posts.append({\n",
    "            \"title\": submission.title,\n",
    "            \"text\": submission.selftext,\n",
    "            \"url\": submission.url,\n",
    "            \"score\": submission.score\n",
    "        })\n",
    "\n",
    "print(f\"Collected {len(posts)} posts\")"
   ]
  },
  {
   "cell_type": "code",
   "execution_count": 19,
   "id": "a925f50b",
   "metadata": {},
   "outputs": [],
   "source": [
    "texts = [p[\"title\"] + \" \" + p[\"text\"] for p in posts if p[\"text\"]]"
   ]
  },
  {
   "cell_type": "markdown",
   "id": "755448bd",
   "metadata": {},
   "source": [
    "## Analysis of post using gemini 1.5 flash"
   ]
  },
  {
   "cell_type": "code",
   "execution_count": 23,
   "id": "f94367ad",
   "metadata": {},
   "outputs": [],
   "source": [
    "from openai import OpenAI\n",
    "\n",
    "#Initialize openai client\n",
    "gemini_client = OpenAI(\n",
    "    api_key=gemini_api_key,\n",
    "    base_url=\"https://generativelanguage.googleapis.com/v1beta/openai/\"\n",
    "    )"
   ]
  },
  {
   "cell_type": "code",
   "execution_count": null,
   "id": "f27ded87",
   "metadata": {},
   "outputs": [],
   "source": [
    "batch_size = 10\n",
    "all_summaries = []\n",
    "\n",
    "for i in range(0, len(texts), batch_size):\n",
    "    chunk = texts[i:i+batch_size]\n",
    "    chunk_prompt = f\"\"\"\n",
    "    You are analyzing user complaints about Meesho from Reddit.\n",
    "    Extract the problems customers face and summarize them into categories such as:\n",
    "    - Sellers: onboarding, catalog management, payouts, visibility or growth.\n",
    "    - Customers: discovery, trust, checkout, delivery, post-purchase support.\n",
    "    - Delivery partners: address accuracy, efficiency, payments last-mile reliability.\n",
    "    - Scalability, trust or ecosystem-wide issue.\n",
    "\n",
    "    List problems under each category. Here are the complaints:\n",
    "    {chunk}\n",
    "    \"\"\"\n",
    "\n",
    "    response = gemini_client.chat.completions.create(\n",
    "        model=\"gemini-1.5-flash\",\n",
    "        messages=[{\"role\": \"user\", \"content\": chunk_prompt}]\n",
    "    )\n",
    "    summary = response.choices[0].message.content\n",
    "    all_summaries.append(summary)\n",
    "    time.sleep(1)\n",
    "\n",
    "#aggregate results and create markdown summary\n",
    "final_prompt = f\"\"\"\n",
    "Combine these summaries of Meesho complaints and organize the problems under each specified category.\n",
    "Format your response in markdown, using headers for each category and grouping problems under appropriate lists.\n",
    "\n",
    "Here are the batch summaries:\n",
    "{all_summaries}\n",
    "\"\"\"\n",
    "\n",
    "final_response = gemini_client.chat.completions.create(\n",
    "    model=\"gemini-1.5-flash\",\n",
    "    messages=[{\"role\": \"user\", \"content\": final_prompt}]\n",
    ")\n",
    "\n",
    "markdown_summary = final_response.choices[0].message.content\n",
    "with open(\"meesho_complaint_summary.md\", \"w\") as f:\n",
    "    f.write(markdown_summary)\n"
   ]
  },
  {
   "cell_type": "code",
   "execution_count": null,
   "id": "f37b5784",
   "metadata": {},
   "outputs": [],
   "source": []
  }
 ],
 "metadata": {
  "kernelspec": {
   "display_name": "meesho-dice (3.11.9)",
   "language": "python",
   "name": "python3"
  },
  "language_info": {
   "codemirror_mode": {
    "name": "ipython",
    "version": 3
   },
   "file_extension": ".py",
   "mimetype": "text/x-python",
   "name": "python",
   "nbconvert_exporter": "python",
   "pygments_lexer": "ipython3",
   "version": "3.11.9"
  }
 },
 "nbformat": 4,
 "nbformat_minor": 5
}
