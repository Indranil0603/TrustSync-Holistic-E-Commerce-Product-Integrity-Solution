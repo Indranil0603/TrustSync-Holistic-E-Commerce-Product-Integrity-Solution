{
  "nbformat": 4,
  "nbformat_minor": 0,
  "metadata": {
    "colab": {
      "provenance": [],
      "gpuType": "T4",
      "include_colab_link": true
    },
    "kernelspec": {
      "name": "python3",
      "display_name": "Python 3"
    },
    "language_info": {
      "name": "python"
    },
    "accelerator": "GPU"
  },
  "cells": [
    {
      "cell_type": "markdown",
      "metadata": {
        "id": "view-in-github",
        "colab_type": "text"
      },
      "source": [
        "<a href=\"https://colab.research.google.com/github/Indranil0603/meesho-dice-challenge-2025/blob/master/Product_verification.ipynb\" target=\"_parent\"><img src=\"https://colab.research.google.com/assets/colab-badge.svg\" alt=\"Open In Colab\"/></a>"
      ]
    },
    {
      "cell_type": "code",
      "execution_count": null,
      "metadata": {
        "id": "_sQI2-xYwLE3"
      },
      "outputs": [],
      "source": [
        "# Making necessary imports\n",
        "from sentence_transformers import SentenceTransformer, util\n",
        "import cv2\n",
        "import torch\n",
        "from tqdm import tqdm\n",
        "import os"
      ]
    },
    {
      "cell_type": "code",
      "source": [
        "# Downloading model class and weights\n",
        "model = SentenceTransformer('clip-ViT-B-32')"
      ],
      "metadata": {
        "id": "WC5nY_4axAAA"
      },
      "execution_count": null,
      "outputs": []
    },
    {
      "cell_type": "code",
      "source": [
        "# Defining product match function\n",
        "def product_match(platform_image_path, captured_image_path, threshold=0.91):\n",
        "    def get_embedding(image_path):\n",
        "        embedding = model.encode(image_path, convert_to_tensor=True)\n",
        "        return embedding\n",
        "    emb1 = get_embedding(platform_image_path)\n",
        "    emb2 = get_embedding(captured_image_path)\n",
        "\n",
        "    similarity = util.cos_sim(emb1, emb2).item()\n",
        "\n",
        "    return similarity, similarity > threshold"
      ],
      "metadata": {
        "id": "cT1K6G7kxObh"
      },
      "execution_count": null,
      "outputs": []
    },
    {
      "cell_type": "code",
      "source": [
        "# Directory path\n",
        "dir_path = \"/content/drive/MyDrive/product_verification\""
      ],
      "metadata": {
        "id": "_oZJNL2F3gW_"
      },
      "execution_count": null,
      "outputs": []
    },
    {
      "cell_type": "code",
      "source": [
        "# Sample Examples"
      ],
      "metadata": {
        "id": "XDUZTNbK4ZsN"
      },
      "execution_count": null,
      "outputs": []
    },
    {
      "cell_type": "code",
      "source": [
        "platform_img = os.path.join(dir_path,'prod1.jpg')\n",
        "phone_img = os.path.join(dir_path,'ref11.jpg')\n",
        "\n",
        "sim, flag = product_match(platform_img, phone_img)\n",
        "print(sim, flag)"
      ],
      "metadata": {
        "colab": {
          "base_uri": "https://localhost:8080/"
        },
        "id": "-XALVHKVxS4q",
        "outputId": "f10f9525-7c84-434c-953c-ddfd3a576c7c"
      },
      "execution_count": null,
      "outputs": [
        {
          "output_type": "stream",
          "name": "stdout",
          "text": [
            "0.9887428879737854 True\n"
          ]
        }
      ]
    },
    {
      "cell_type": "code",
      "source": [
        "platform_img = os.path.join(dir_path,'prod1.jpg')\n",
        "phone_img = os.path.join(dir_path,'ref12.jpg')\n",
        "\n",
        "sim, flag = product_match(platform_img, phone_img)\n",
        "print(sim, flag)"
      ],
      "metadata": {
        "colab": {
          "base_uri": "https://localhost:8080/"
        },
        "id": "OZm4Yux-0mJL",
        "outputId": "7775d648-afab-4fec-de9f-9f053806b203"
      },
      "execution_count": null,
      "outputs": [
        {
          "output_type": "stream",
          "name": "stdout",
          "text": [
            "0.9887080192565918 True\n"
          ]
        }
      ]
    },
    {
      "cell_type": "code",
      "source": [
        "platform_img = os.path.join('prod1.jpg')\n",
        "phone_img = os.path.join('ref13.jpg')\n",
        "\n",
        "sim, flag = product_match(platform_img, phone_img)\n",
        "print(sim, flag)"
      ],
      "metadata": {
        "colab": {
          "base_uri": "https://localhost:8080/"
        },
        "id": "7HVhe1Nk009H",
        "outputId": "c7d6c972-d807-4182-8323-41631a74bd3f"
      },
      "execution_count": null,
      "outputs": [
        {
          "output_type": "stream",
          "name": "stdout",
          "text": [
            "0.9089818000793457 False\n"
          ]
        }
      ]
    },
    {
      "cell_type": "code",
      "source": [
        "platform_img = 'prod2.jpg'\n",
        "phone_img = 'ref21.jpg'\n",
        "\n",
        "sim, flag = product_match(platform_img, phone_img)\n",
        "print(sim,flag)"
      ],
      "metadata": {
        "colab": {
          "base_uri": "https://localhost:8080/"
        },
        "id": "B1KlKwmk2eMp",
        "outputId": "964f178f-16e2-40cb-b8f6-e1bf83be4f81"
      },
      "execution_count": null,
      "outputs": [
        {
          "output_type": "stream",
          "name": "stdout",
          "text": [
            "0.8667031526565552 False\n"
          ]
        }
      ]
    },
    {
      "cell_type": "code",
      "source": [
        "platform_img = 'prod2.jpg'\n",
        "phone_img = 'ref22.jpg'\n",
        "\n",
        "sim, flag = product_match(platform_img, phone_img)\n",
        "print(sim, flag)"
      ],
      "metadata": {
        "colab": {
          "base_uri": "https://localhost:8080/"
        },
        "id": "70K4LYeN2hwy",
        "outputId": "56bc7345-7081-4c1b-f7bd-b91f56add31d"
      },
      "execution_count": null,
      "outputs": [
        {
          "output_type": "stream",
          "name": "stdout",
          "text": [
            "0.8601951599121094 False\n"
          ]
        }
      ]
    },
    {
      "cell_type": "code",
      "source": [
        "platform_img = 'prod2.jpg'\n",
        "phone_img = 'ref23.jpg'\n",
        "\n",
        "sim, flag = product_match(platform_img, phone_img)\n",
        "print(sim, flag)"
      ],
      "metadata": {
        "colab": {
          "base_uri": "https://localhost:8080/"
        },
        "id": "Mw1Lxoql2pBH",
        "outputId": "1559dec6-98b1-47a6-e72d-28dfb5bc8cbf"
      },
      "execution_count": null,
      "outputs": [
        {
          "output_type": "stream",
          "name": "stdout",
          "text": [
            "0.8658748865127563 False\n"
          ]
        }
      ]
    },
    {
      "cell_type": "code",
      "source": [],
      "metadata": {
        "id": "2ENbBksC2-Fh"
      },
      "execution_count": null,
      "outputs": []
    }
  ]
}